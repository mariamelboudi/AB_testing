{
 "cells": [
  {
   "cell_type": "code",
   "execution_count": 72,
   "id": "c38f908a",
   "metadata": {},
   "outputs": [],
   "source": [
    "import pandas as pd\n",
    "import numpy as np\n",
    "import seaborn as sns\n",
    "import matplotlib.pyplot as plt\n",
    "import statsmodels.api as sm"
   ]
  },
  {
   "cell_type": "code",
   "execution_count": 16,
   "id": "9ec08e84",
   "metadata": {},
   "outputs": [
    {
     "name": "stdout",
     "output_type": "stream",
     "text": [
      "<class 'pandas.core.frame.DataFrame'>\n",
      "RangeIndex: 90189 entries, 0 to 90188\n",
      "Data columns (total 5 columns):\n",
      " #   Column          Non-Null Count  Dtype \n",
      "---  ------          --------------  ----- \n",
      " 0   userid          90189 non-null  int64 \n",
      " 1   version         90189 non-null  object\n",
      " 2   sum_gamerounds  90189 non-null  int64 \n",
      " 3   retention_1     90189 non-null  bool  \n",
      " 4   retention_7     90189 non-null  bool  \n",
      "dtypes: bool(2), int64(2), object(1)\n",
      "memory usage: 2.2+ MB\n"
     ]
    }
   ],
   "source": [
    "df = pd.read_csv('cookie_cats.csv')\n",
    "\n",
    "#Print info on the dataframe\n",
    "df.info()"
   ]
  },
  {
   "cell_type": "markdown",
   "id": "d01c672f",
   "metadata": {},
   "source": [
    "## I. Inspect dataframe"
   ]
  },
  {
   "cell_type": "code",
   "execution_count": 17,
   "id": "03b4fe6f",
   "metadata": {},
   "outputs": [
    {
     "data": {
      "text/plain": [
       "userid            0\n",
       "version           0\n",
       "sum_gamerounds    0\n",
       "retention_1       0\n",
       "retention_7       0\n",
       "dtype: int64"
      ]
     },
     "execution_count": 17,
     "metadata": {},
     "output_type": "execute_result"
    }
   ],
   "source": [
    "#Print null values\n",
    "\n",
    "df.isnull().sum()"
   ]
  },
  {
   "cell_type": "code",
   "execution_count": 11,
   "id": "16562cc5",
   "metadata": {},
   "outputs": [
    {
     "data": {
      "text/plain": [
       "0"
      ]
     },
     "execution_count": 11,
     "metadata": {},
     "output_type": "execute_result"
    }
   ],
   "source": [
    "#Print duplicates\n",
    "\n",
    "df.duplicated().sum()"
   ]
  },
  {
   "cell_type": "code",
   "execution_count": 12,
   "id": "f192a8eb",
   "metadata": {},
   "outputs": [
    {
     "data": {
      "text/html": [
       "<div>\n",
       "<style scoped>\n",
       "    .dataframe tbody tr th:only-of-type {\n",
       "        vertical-align: middle;\n",
       "    }\n",
       "\n",
       "    .dataframe tbody tr th {\n",
       "        vertical-align: top;\n",
       "    }\n",
       "\n",
       "    .dataframe thead th {\n",
       "        text-align: right;\n",
       "    }\n",
       "</style>\n",
       "<table border=\"1\" class=\"dataframe\">\n",
       "  <thead>\n",
       "    <tr style=\"text-align: right;\">\n",
       "      <th></th>\n",
       "      <th>userid</th>\n",
       "      <th>version</th>\n",
       "      <th>sum_gamerounds</th>\n",
       "      <th>retention_1</th>\n",
       "      <th>retention_7</th>\n",
       "    </tr>\n",
       "  </thead>\n",
       "  <tbody>\n",
       "    <tr>\n",
       "      <th>0</th>\n",
       "      <td>116</td>\n",
       "      <td>gate_30</td>\n",
       "      <td>3</td>\n",
       "      <td>False</td>\n",
       "      <td>False</td>\n",
       "    </tr>\n",
       "    <tr>\n",
       "      <th>1</th>\n",
       "      <td>337</td>\n",
       "      <td>gate_30</td>\n",
       "      <td>38</td>\n",
       "      <td>True</td>\n",
       "      <td>False</td>\n",
       "    </tr>\n",
       "    <tr>\n",
       "      <th>2</th>\n",
       "      <td>377</td>\n",
       "      <td>gate_40</td>\n",
       "      <td>165</td>\n",
       "      <td>True</td>\n",
       "      <td>False</td>\n",
       "    </tr>\n",
       "    <tr>\n",
       "      <th>3</th>\n",
       "      <td>483</td>\n",
       "      <td>gate_40</td>\n",
       "      <td>1</td>\n",
       "      <td>False</td>\n",
       "      <td>False</td>\n",
       "    </tr>\n",
       "    <tr>\n",
       "      <th>4</th>\n",
       "      <td>488</td>\n",
       "      <td>gate_40</td>\n",
       "      <td>179</td>\n",
       "      <td>True</td>\n",
       "      <td>True</td>\n",
       "    </tr>\n",
       "    <tr>\n",
       "      <th>5</th>\n",
       "      <td>540</td>\n",
       "      <td>gate_40</td>\n",
       "      <td>187</td>\n",
       "      <td>True</td>\n",
       "      <td>True</td>\n",
       "    </tr>\n",
       "    <tr>\n",
       "      <th>6</th>\n",
       "      <td>1066</td>\n",
       "      <td>gate_30</td>\n",
       "      <td>0</td>\n",
       "      <td>False</td>\n",
       "      <td>False</td>\n",
       "    </tr>\n",
       "    <tr>\n",
       "      <th>7</th>\n",
       "      <td>1444</td>\n",
       "      <td>gate_40</td>\n",
       "      <td>2</td>\n",
       "      <td>False</td>\n",
       "      <td>False</td>\n",
       "    </tr>\n",
       "    <tr>\n",
       "      <th>8</th>\n",
       "      <td>1574</td>\n",
       "      <td>gate_40</td>\n",
       "      <td>108</td>\n",
       "      <td>True</td>\n",
       "      <td>True</td>\n",
       "    </tr>\n",
       "    <tr>\n",
       "      <th>9</th>\n",
       "      <td>1587</td>\n",
       "      <td>gate_40</td>\n",
       "      <td>153</td>\n",
       "      <td>True</td>\n",
       "      <td>False</td>\n",
       "    </tr>\n",
       "  </tbody>\n",
       "</table>\n",
       "</div>"
      ],
      "text/plain": [
       "   userid  version  sum_gamerounds  retention_1  retention_7\n",
       "0     116  gate_30               3        False        False\n",
       "1     337  gate_30              38         True        False\n",
       "2     377  gate_40             165         True        False\n",
       "3     483  gate_40               1        False        False\n",
       "4     488  gate_40             179         True         True\n",
       "5     540  gate_40             187         True         True\n",
       "6    1066  gate_30               0        False        False\n",
       "7    1444  gate_40               2        False        False\n",
       "8    1574  gate_40             108         True         True\n",
       "9    1587  gate_40             153         True        False"
      ]
     },
     "execution_count": 12,
     "metadata": {},
     "output_type": "execute_result"
    }
   ],
   "source": [
    "#Print first ten rows of the dataframe\n",
    "\n",
    "df.head(10)"
   ]
  },
  {
   "cell_type": "code",
   "execution_count": 13,
   "id": "eeb78cfa",
   "metadata": {},
   "outputs": [
    {
     "data": {
      "text/plain": [
       "gate_40    45489\n",
       "gate_30    44700\n",
       "Name: version, dtype: int64"
      ]
     },
     "execution_count": 13,
     "metadata": {},
     "output_type": "execute_result"
    }
   ],
   "source": [
    "#Check for misspellings in 'version' column\n",
    "\n",
    "df['version'].value_counts()"
   ]
  },
  {
   "cell_type": "markdown",
   "id": "cf893b27",
   "metadata": {},
   "source": [
    "## II. EDA "
   ]
  },
  {
   "cell_type": "code",
   "execution_count": 62,
   "id": "7dbc611e",
   "metadata": {},
   "outputs": [],
   "source": [
    "#Set Seaborn palette for the entire notebook\n",
    "sns.set_palette(\"Set2\")"
   ]
  },
  {
   "cell_type": "code",
   "execution_count": 19,
   "id": "fcb9c944",
   "metadata": {},
   "outputs": [
    {
     "data": {
      "text/plain": [
       "90189"
      ]
     },
     "execution_count": 19,
     "metadata": {},
     "output_type": "execute_result"
    }
   ],
   "source": [
    "#Print number of unique users\n",
    "\n",
    "df['userid'].nunique()"
   ]
  },
  {
   "cell_type": "code",
   "execution_count": 73,
   "id": "54408037",
   "metadata": {},
   "outputs": [
    {
     "data": {
      "image/png": "[encoded data removed]",
      "text/plain": [
       "<Figure size 432x288 with 1 Axes>"
      ]
     },
     "metadata": {
      "needs_background": "light"
     },
     "output_type": "display_data"
    }
   ],
   "source": [
    "#Plot count of version distribution\n",
    "\n",
    "ax = sns.countplot(x='version', data=df)\n",
    "plt.title('Count of version distribution amongst players')\n",
    "\n",
    "for container in ax.containers:\n",
    "    ax.bar_label(container, padding=8)\n",
    "\n",
    "# Remove the labels on the y-axis\n",
    "ax.set_ylim(0, 53000)\n",
    "ax.set_yticklabels([])\n",
    "ax.grid(False)\n",
    "\n",
    "#Save file to jpeg\n",
    "plt.savefig('gate_distribtion.jpeg', format='jpeg', dpi=300)\n",
    "\n",
    "# Show the plot\n",
    "plt.show()"
   ]
  },
  {
   "cell_type": "code",
   "execution_count": 89,
   "id": "bc198548",
   "metadata": {},
   "outputs": [
    {
     "data": {
      "image/png": "[encoded data removed]",
      "text/plain": [
       "<Figure size 864x288 with 2 Axes>"
      ]
     },
     "metadata": {
      "needs_background": "light"
     },
     "output_type": "display_data"
    }
   ],
   "source": [
    "# Create a figure with two subplots (1 row, 2 columns)\n",
    "fig, ax = plt.subplots(1, 2, figsize=(12, 4), sharex=False)\n",
    "\n",
    "# Plot the sum of game rounds (full data)\n",
    "sns.boxplot(x='sum_gamerounds', data=df, ax=ax[0])\n",
    "ax[0].set_title('Distribution of Total Game Rounds (All Data)')\n",
    "ax[0].set_xlabel('Total rounds played')\n",
    "\n",
    "# Plot the sum of game rounds with minimal outliers (filtered data)\n",
    "sns.boxplot(x='sum_gamerounds', data=df[df['sum_gamerounds'] < 60], ax=ax[1])\n",
    "ax[1].set_title('Distribution of Total Game Rounds (Filtered < 60)')\n",
    "ax[1].set_xlabel('Total rounds played')\n",
    "\n",
    "# Adjust the layout\n",
    "plt.tight_layout()\n",
    "\n",
    "#Save file to jpeg\n",
    "plt.savefig('game_rounds.jpeg', format='jpeg', dpi=300)\n",
    "\n",
    "# Show the plot\n",
    "plt.show()"
   ]
  },
  {
   "cell_type": "code",
   "execution_count": 99,
   "id": "e0e71bed",
   "metadata": {},
   "outputs": [
    {
     "data": {
      "text/plain": [
       "count    90189.000000\n",
       "mean        51.872457\n",
       "std        195.050858\n",
       "min          0.000000\n",
       "25%          5.000000\n",
       "50%         16.000000\n",
       "75%         51.000000\n",
       "max      49854.000000\n",
       "Name: sum_gamerounds, dtype: float64"
      ]
     },
     "execution_count": 99,
     "metadata": {},
     "output_type": "execute_result"
    }
   ],
   "source": [
    "df['sum_gamerounds'].describe()"
   ]
  },
  {
   "cell_type": "code",
   "execution_count": 100,
   "id": "47531414",
   "metadata": {},
   "outputs": [
    {
     "data": {
      "image/png": "[encoded data removed]",
      "text/plain": [
       "<Figure size 432x288 with 1 Axes>"
      ]
     },
     "metadata": {
      "needs_background": "light"
     },
     "output_type": "display_data"
    }
   ],
   "source": [
    "#Count number of players who returned at least once to the game\n",
    "#Apply lambda function\n",
    "\n",
    "df['returned'] = df.apply(lambda row: row['retention_1'] or row['retention_7'], axis=1)\n",
    "\n",
    "#Plot retention\n",
    "\n",
    "ax = sns.countplot(x='returned', data=df)\n",
    "\n",
    "plt.title('Count of players who returned at least once')\n",
    "\n",
    "for container in ax.containers:\n",
    "    ax.bar_label(container, padding=8)\n",
    "\n",
    "ax.set_xlabel('Return')\n",
    "ax.set_ylim(0, 57000)\n",
    "ax.set_yticklabels([])\n",
    "ax.grid(False)\n",
    "\n",
    "#Save file to jpeg\n",
    "plt.savefig('return_count.jpeg', format='jpeg', dpi=300)\n",
    "\n",
    "# Show the plot\n",
    "plt.show()"
   ]
  },
  {
   "cell_type": "code",
   "execution_count": 95,
   "id": "257a6da8",
   "metadata": {},
   "outputs": [
    {
     "data": {
      "image/png": "[encoded data removed]",
      "text/plain": [
       "<Figure size 1008x432 with 2 Axes>"
      ]
     },
     "metadata": {
      "needs_background": "light"
     },
     "output_type": "display_data"
    }
   ],
   "source": [
    "#Plot retention\n",
    "\n",
    "# Create a figure with two subplots (1 row, 2 columns)\n",
    "fig, ax = plt.subplots(1, 2, figsize=(14, 6), sharey=True)\n",
    "\n",
    "# Plot for 'retention_1'\n",
    "sns.countplot(x='retention_1', data=df, ax=ax[0])\n",
    "ax[0].set_title('Count of Return at +1 Day')\n",
    "for container in ax[0].containers:\n",
    "    ax[0].bar_label(container, padding=8)\n",
    "    \n",
    "ax[0].set_xlabel('Return')\n",
    "ax[0].set_ylim(0, 76000)\n",
    "ax[0].set_yticklabels([])\n",
    "ax[0].grid(False)\n",
    "\n",
    "# Plot for 'retention_7'\n",
    "sns.countplot(x='retention_7', data=df, ax=ax[1])\n",
    "ax[1].set_title('Count of Return at +7 Days')\n",
    "for container in ax[1].containers:\n",
    "    ax[1].bar_label(container, padding=8)\n",
    "    \n",
    "ax[1].set_xlabel('Return')\n",
    "ax[1].set_ylim(0, 80000)\n",
    "ax[1].set_yticklabels([])\n",
    "ax[1].grid(False)\n",
    "\n",
    "# Adjust layout\n",
    "plt.tight_layout()\n",
    "\n",
    "# Show the plots\n",
    "plt.show()"
   ]
  },
  {
   "cell_type": "code",
   "execution_count": 101,
   "id": "413e1d72",
   "metadata": {},
   "outputs": [
    {
     "data": {
      "image/png": "[encoded data removed]",
      "text/plain": [
       "<Figure size 1008x432 with 2 Axes>"
      ]
     },
     "metadata": {
      "needs_background": "light"
     },
     "output_type": "display_data"
    }
   ],
   "source": [
    "#Plot retention according to gate and day\n",
    "\n",
    "# Create a figure with two subplots (1 row, 2 columns)\n",
    "fig, ax = plt.subplots(1, 2, figsize=(14, 6), sharey=True)\n",
    "\n",
    "# Plot for 'retention_1'\n",
    "sns.countplot(x='version', hue='retention_1', data=df, ax=ax[0])\n",
    "ax[0].set_title('Count of Return at +1 Day')\n",
    "for container in ax[0].containers:\n",
    "    ax[0].bar_label(container, padding=8)\n",
    "    \n",
    "ax[0].set_xlabel('Version')\n",
    "ax[0].set_ylim(0, 76000)  # Adjust this based on your data\n",
    "ax[0].set_yticklabels([])\n",
    "ax[0].grid(False)\n",
    "\n",
    "# Plot for 'retention_7'\n",
    "sns.countplot(x='version', hue='retention_7', data=df, ax=ax[1])\n",
    "ax[1].set_title('Count of Return at +7 Days')\n",
    "for container in ax[1].containers:\n",
    "    ax[1].bar_label(container, padding=8)\n",
    "    \n",
    "ax[1].set_xlabel('Version')\n",
    "ax[1].set_ylim(0, 80000)  # Adjust this based on your data\n",
    "ax[1].set_yticklabels([])\n",
    "ax[1].grid(False)\n",
    "\n",
    "# Adjust layout\n",
    "plt.tight_layout()\n",
    "\n",
    "#Save file to jpeg\n",
    "plt.savefig('retention_plot_gate.jpeg', format='jpeg', dpi=300)\n",
    "\n",
    "# Show the plots\n",
    "plt.show()"
   ]
  },
  {
   "cell_type": "markdown",
   "id": "9810835d",
   "metadata": {},
   "source": [
    "## III. A/B testing"
   ]
  },
  {
   "cell_type": "markdown",
   "id": "3283b317",
   "metadata": {},
   "source": [
    "### Define hypothesis\n",
    "\n",
    "\n",
    "Null Hypothesis (H₀): There is no difference in player behavior between the two groups (gate_30 and gate_40).\n",
    "<br>Alternative Hypothesis (H₁): There is a significant difference in player behavior between the two groups.\n",
    "\n",
    "<br><b>Metric: </b> Return at +1 days after installation"
   ]
  },
  {
   "cell_type": "code",
   "execution_count": 49,
   "id": "2cd088b3",
   "metadata": {},
   "outputs": [
    {
     "data": {
      "text/html": [
       "<div>\n",
       "<style scoped>\n",
       "    .dataframe tbody tr th:only-of-type {\n",
       "        vertical-align: middle;\n",
       "    }\n",
       "\n",
       "    .dataframe tbody tr th {\n",
       "        vertical-align: top;\n",
       "    }\n",
       "\n",
       "    .dataframe thead th {\n",
       "        text-align: right;\n",
       "    }\n",
       "</style>\n",
       "<table border=\"1\" class=\"dataframe\">\n",
       "  <thead>\n",
       "    <tr style=\"text-align: right;\">\n",
       "      <th>retention_1</th>\n",
       "      <th>False</th>\n",
       "      <th>True</th>\n",
       "    </tr>\n",
       "    <tr>\n",
       "      <th>version</th>\n",
       "      <th></th>\n",
       "      <th></th>\n",
       "    </tr>\n",
       "  </thead>\n",
       "  <tbody>\n",
       "    <tr>\n",
       "      <th>gate_30</th>\n",
       "      <td>24666</td>\n",
       "      <td>20034</td>\n",
       "    </tr>\n",
       "    <tr>\n",
       "      <th>gate_40</th>\n",
       "      <td>25370</td>\n",
       "      <td>20119</td>\n",
       "    </tr>\n",
       "  </tbody>\n",
       "</table>\n",
       "</div>"
      ],
      "text/plain": [
       "retention_1  False   True\n",
       "version                  \n",
       "gate_30      24666  20034\n",
       "gate_40      25370  20119"
      ]
     },
     "execution_count": 49,
     "metadata": {},
     "output_type": "execute_result"
    }
   ],
   "source": [
    "#Contingency table\n",
    "\n",
    "contingency_table_1 = pd.crosstab(df['version'], df['retention_1'])\n",
    "contingency_table_1"
   ]
  },
  {
   "cell_type": "code",
   "execution_count": 52,
   "id": "ac5208d8",
   "metadata": {},
   "outputs": [
    {
     "name": "stdout",
     "output_type": "stream",
     "text": [
      "Z-statistic: 1.784\n",
      "P-value: 0.074\n"
     ]
    }
   ],
   "source": [
    "#Assign the total number of returned players to a 'successes' variable\n",
    "successes = contingency_table_1[1]\n",
    "\n",
    "#Assign the total number of players to a 'totals' variable\n",
    "totals = contingency_table_1.sum(axis=1)\n",
    "\n",
    "# Run z-test for proportions\n",
    "z_stat, p_value = sm.stats.proportions_ztest(successes, totals)\n",
    "\n",
    "# Output results\n",
    "print(f\"Z-statistic: {z_stat:.3f}\")\n",
    "print(f\"P-value: {p_value:.3f}\")"
   ]
  },
  {
   "cell_type": "markdown",
   "id": "aa350daf",
   "metadata": {},
   "source": [
    "<b>Metric: </b> Return at +7 days after installation"
   ]
  },
  {
   "cell_type": "code",
   "execution_count": 50,
   "id": "6c2c0a82",
   "metadata": {},
   "outputs": [
    {
     "data": {
      "text/html": [
       "<div>\n",
       "<style scoped>\n",
       "    .dataframe tbody tr th:only-of-type {\n",
       "        vertical-align: middle;\n",
       "    }\n",
       "\n",
       "    .dataframe tbody tr th {\n",
       "        vertical-align: top;\n",
       "    }\n",
       "\n",
       "    .dataframe thead th {\n",
       "        text-align: right;\n",
       "    }\n",
       "</style>\n",
       "<table border=\"1\" class=\"dataframe\">\n",
       "  <thead>\n",
       "    <tr style=\"text-align: right;\">\n",
       "      <th>retention_7</th>\n",
       "      <th>False</th>\n",
       "      <th>True</th>\n",
       "    </tr>\n",
       "    <tr>\n",
       "      <th>version</th>\n",
       "      <th></th>\n",
       "      <th></th>\n",
       "    </tr>\n",
       "  </thead>\n",
       "  <tbody>\n",
       "    <tr>\n",
       "      <th>gate_30</th>\n",
       "      <td>36198</td>\n",
       "      <td>8502</td>\n",
       "    </tr>\n",
       "    <tr>\n",
       "      <th>gate_40</th>\n",
       "      <td>37210</td>\n",
       "      <td>8279</td>\n",
       "    </tr>\n",
       "  </tbody>\n",
       "</table>\n",
       "</div>"
      ],
      "text/plain": [
       "retention_7  False  True\n",
       "version                 \n",
       "gate_30      36198  8502\n",
       "gate_40      37210  8279"
      ]
     },
     "execution_count": 50,
     "metadata": {},
     "output_type": "execute_result"
    }
   ],
   "source": [
    "#Contingency table\n",
    "\n",
    "contingency_table_7 = pd.crosstab(df['version'], df['retention_7'])\n",
    "contingency_table_7"
   ]
  },
  {
   "cell_type": "code",
   "execution_count": 51,
   "id": "791b4b53",
   "metadata": {},
   "outputs": [
    {
     "name": "stdout",
     "output_type": "stream",
     "text": [
      "Z-statistic: 3.164\n",
      "P-value: 0.002\n"
     ]
    }
   ],
   "source": [
    "#Assign the total number of returned players to a 'successes' variable\n",
    "successes = contingency_table_7[1]\n",
    "\n",
    "#Assign the total number of players to a 'totals' variable\n",
    "totals = contingency_table_7.sum(axis=1)\n",
    "\n",
    "# Run z-test for proportions\n",
    "z_stat, p_value = sm.stats.proportions_ztest(successes, totals)\n",
    "\n",
    "# Output results\n",
    "print(f\"Z-statistic: {z_stat:.3f}\")\n",
    "print(f\"P-value: {p_value:.3f}\")"
   ]
  },
  {
   "cell_type": "markdown",
   "id": "89eb4a9a",
   "metadata": {},
   "source": [
    "<b>The Z-statistic measures how many standard deviations the observed difference is from the null hypothesis (which often assumes no effect or no difference).</b>\n",
    "<br>In our case, the Z-statistic is quite large and suggest the return rates at +7 days is higher for the second group ('gate_40') than the first group ('gate_30'). Furthermore, the p-value is less than 0.05 (p-value=0.002).  This implies that the observed increase in return rates for gate_40 compared to gate_30 is unlikely to be due to random variation."
   ]
  },
  {
   "cell_type": "markdown",
   "id": "d0a5426f",
   "metadata": {},
   "source": [
    "### Calculate Cohen's h to determine effect size"
   ]
  },
  {
   "cell_type": "code",
   "execution_count": 60,
   "id": "795a9618",
   "metadata": {},
   "outputs": [
    {
     "name": "stdout",
     "output_type": "stream",
     "text": [
      "Cohen's h: 0.021\n"
     ]
    }
   ],
   "source": [
    "# Proportions for each group\n",
    "p1 = contingency_table_7[1][0] / (contingency_table_7[0][0]+contingency_table_7[1][0])  # Retention rate for gate_30\n",
    "p2 = contingency_table_7[1][1] / (contingency_table_7[0][1]+contingency_table_7[1][1])  # Retention rate for gate_40\n",
    "\n",
    "# Arcsine transformation\n",
    "arcsin_p1 = np.arcsin(np.sqrt(p1))\n",
    "arcsin_p2 = np.arcsin(np.sqrt(p2))\n",
    "\n",
    "# Cohen's h calculation\n",
    "cohens_h = 2 * (arcsin_p1 - arcsin_p2)\n",
    "print(f\"Cohen's h: {cohens_h:.3f}\")"
   ]
  },
  {
   "cell_type": "markdown",
   "id": "d35da4b6",
   "metadata": {},
   "source": [
    "Though our z-test reflects statistical significance, calculating Cohen's h shows a small practical significance. This means that moving the gate from level 30 to level 40 might not be relevant from a business perspective, especially if it entails high costs."
   ]
  },
  {
   "cell_type": "code",
   "execution_count": null,
   "id": "3499f4f4",
   "metadata": {},
   "outputs": [],
   "source": []
  }
 ],
 "metadata": {
  "kernelspec": {
   "display_name": "Python 3 (ipykernel)",
   "language": "python",
   "name": "python3"
  },
  "language_info": {
   "codemirror_mode": {
    "name": "ipython",
    "version": 3
   },
   "file_extension": ".py",
   "mimetype": "text/x-python",
   "name": "python",
   "nbconvert_exporter": "python",
   "pygments_lexer": "ipython3",
   "version": "3.9.12"
  }
 },
 "nbformat": 4,
 "nbformat_minor": 5
}
